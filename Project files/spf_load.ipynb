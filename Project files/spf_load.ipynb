{
 "cells": [
  {
   "cell_type": "code",
   "execution_count": null,
   "metadata": {},
   "outputs": [],
   "source": [
    "import numpy as np\n",
    "import pickle"
   ]
  },
  {
   "cell_type": "code",
   "execution_count": null,
   "metadata": {},
   "outputs": [],
   "source": [
    "oe_atr = pickle.load(open(\"D:\\Programs\\GIT\\Student_Exam_Score_pred\\Model\\oe_atr.pkl\", \"rb\"))\n",
    "oe_ml = pickle.load(open(\"D:\\Programs\\GIT\\Student_Exam_Score_pred\\Model\\oe_ml.pkl\", \"rb\"))\n",
    "oe_pi = pickle.load(open(\"D:\\Programs\\GIT\\Student_Exam_Score_pred\\Model\\oe_pi.pkl\", \"rb\"))"
   ]
  },
  {
   "cell_type": "code",
   "execution_count": null,
   "metadata": {},
   "outputs": [],
   "source": [
    "\n",
    "test_input = np.array([10,70,7,80,4,4,'High','Medium','Neutral'],dtype=object).reshape(1, -1)\n",
    "test_input"
   ]
  },
  {
   "cell_type": "code",
   "execution_count": null,
   "metadata": {},
   "outputs": [],
   "source": [
    "test_input_atr = oe_atr.transform(test_input[:,6].reshape(1, 1))\n",
    "test_input_ml = oe_ml.transform(test_input[:,7].reshape(1, 1)) \n",
    "test_input_pi = oe_pi.transform(test_input[:,8].reshape(1, 1))"
   ]
  },
  {
   "cell_type": "code",
   "execution_count": null,
   "metadata": {},
   "outputs": [],
   "source": [
    "test_input_transformed = np.concatenate((test_input[:,0:6], test_input_atr, test_input_ml, test_input_pi), axis=1)"
   ]
  },
  {
   "cell_type": "code",
   "execution_count": null,
   "metadata": {},
   "outputs": [],
   "source": [
    "test_input_transformed.shape"
   ]
  },
  {
   "cell_type": "code",
   "execution_count": null,
   "metadata": {},
   "outputs": [],
   "source": [
    "lr = pickle.load(open(\"D:\\Programs\\GIT\\Student_Exam_Score_pred\\Model\\lr_model.pkl\", \"rb\"))"
   ]
  },
  {
   "cell_type": "code",
   "execution_count": null,
   "metadata": {},
   "outputs": [],
   "source": [
    "test_pred = lr.predict(test_input_transformed)"
   ]
  },
  {
   "cell_type": "code",
   "execution_count": null,
   "metadata": {},
   "outputs": [],
   "source": [
    "test_pred"
   ]
  },
  {
   "cell_type": "code",
   "execution_count": null,
   "metadata": {},
   "outputs": [],
   "source": [
    "import gradio as gr"
   ]
  },
  {
   "cell_type": "code",
   "execution_count": null,
   "metadata": {},
   "outputs": [],
   "source": [
    "import gradio as gr\n",
    "  \n",
    "def handle_submission(num1, num2, num3, num4, num5, num6, cat1, cat2, cat3):\n",
    "    # // cat1 \n",
    "    if cat1 == \"Low\":\n",
    "        cat1 = 0\n",
    "    elif cat1 == \"Medium\":\n",
    "        cat1 = 1\n",
    "    else:\n",
    "        cat1 = 2\n",
    "    \n",
    "    # // cat2\n",
    "    if cat2 == \"Low\":\n",
    "        cat2 = 0\n",
    "    elif cat2 == \"Medium\":\n",
    "        cat2 = 1\n",
    "    else:\n",
    "        cat2 = 2\n",
    "    \n",
    "    # // cat3\n",
    "    if cat3 == \"Negative\":\n",
    "        cat3 = 0\n",
    "    elif cat3 == \"Neutral\":\n",
    "        cat3 = 1\n",
    "    else:\n",
    "        cat3 = 2\n",
    "        \n",
    "    input_data = np.array([num1, num2, num3, num4, num5, num6, cat1, cat2, cat3],dtype=object).reshape(1, -1)\n",
    "     \n",
    "    test_pred = lr.predict(input_data)\n",
    "     \n",
    "    \n",
    "    return test_pred[0]\n",
    "\n",
    "with gr.Blocks() as demo:\n",
    "    gr.Markdown(\"# Enter 6 Numbers and Select 3 Categories\")\n",
    "    \n",
    "    with gr.Row():\n",
    "        num1 = gr.Number(label=\"Hours_Studied\")\n",
    "        num2 = gr.Number(label=\"Attendance\")\n",
    "        num3 = gr.Number(label=\"Sleep_Hours\")\n",
    "    \n",
    "    with gr.Row():\n",
    "        num4 = gr.Number(label=\"Previous_Scores\")\n",
    "        num5 = gr.Number(label=\"Tutoring_Sessions\")\n",
    "        num6 = gr.Number(label=\"Physical_Activities\")\n",
    "    \n",
    "    with gr.Row():\n",
    "        cat1 = gr.Dropdown(choices=[\"Low\", \"Medium\", \"High\"], label=\"Access_to_Resources\")\n",
    "        cat2 = gr.Dropdown(choices=[\"Low\", \"Medium\", \"High\"], label=\"Motivation_Level\")\n",
    "        cat3 = gr.Dropdown(choices=[\"Negative\", \"Neutral\", \"Positive\"], label=\"Peer_Influence\")\n",
    "    \n",
    "    submit = gr.Button(\"Submit Data\")\n",
    "    output = gr.Textbox(label=\"Predicted Score\")\n",
    "    \n",
    "    submit.click(handle_submission, [num1, num2, num3, num4, num5, num6, cat1, cat2, cat3], output)\n",
    "\n",
    "demo.launch(share=True)"
   ]
  }
 ],
 "metadata": {
  "kernelspec": {
   "display_name": "Python 3",
   "language": "python",
   "name": "python3"
  },
  "language_info": {
   "codemirror_mode": {
    "name": "ipython",
    "version": 3
   },
   "file_extension": ".py",
   "mimetype": "text/x-python",
   "name": "python",
   "nbconvert_exporter": "python",
   "pygments_lexer": "ipython3",
   "version": "3.13.2"
  }
 },
 "nbformat": 4,
 "nbformat_minor": 2
}
