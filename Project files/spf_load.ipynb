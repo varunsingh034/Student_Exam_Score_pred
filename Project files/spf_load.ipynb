{
 "cells": [
  {
   "cell_type": "code",
   "execution_count": 2,
   "metadata": {},
   "outputs": [],
   "source": [
    "import numpy as np\n",
    "import pickle"
   ]
  },
  {
   "cell_type": "code",
   "execution_count": 3,
   "metadata": {},
   "outputs": [
    {
     "name": "stderr",
     "output_type": "stream",
     "text": [
      "<>:1: SyntaxWarning: invalid escape sequence '\\P'\n",
      "<>:2: SyntaxWarning: invalid escape sequence '\\P'\n",
      "<>:3: SyntaxWarning: invalid escape sequence '\\P'\n",
      "<>:1: SyntaxWarning: invalid escape sequence '\\P'\n",
      "<>:2: SyntaxWarning: invalid escape sequence '\\P'\n",
      "<>:3: SyntaxWarning: invalid escape sequence '\\P'\n",
      "C:\\Users\\varun\\AppData\\Local\\Temp\\ipykernel_15812\\3721182226.py:1: SyntaxWarning: invalid escape sequence '\\P'\n",
      "  oe_atr = pickle.load(open(\"D:\\Programs\\GIT\\Student_Exam_Score_pred\\Model\\oe_atr.pkl\", \"rb\"))\n",
      "C:\\Users\\varun\\AppData\\Local\\Temp\\ipykernel_15812\\3721182226.py:2: SyntaxWarning: invalid escape sequence '\\P'\n",
      "  oe_ml = pickle.load(open(\"D:\\Programs\\GIT\\Student_Exam_Score_pred\\Model\\oe_ml.pkl\", \"rb\"))\n",
      "C:\\Users\\varun\\AppData\\Local\\Temp\\ipykernel_15812\\3721182226.py:3: SyntaxWarning: invalid escape sequence '\\P'\n",
      "  oe_pi = pickle.load(open(\"D:\\Programs\\GIT\\Student_Exam_Score_pred\\Model\\oe_pi.pkl\", \"rb\"))\n"
     ]
    }
   ],
   "source": [
    "oe_atr = pickle.load(open(\"D:\\Programs\\GIT\\Student_Exam_Score_pred\\Model\\oe_atr.pkl\", \"rb\"))\n",
    "oe_ml = pickle.load(open(\"D:\\Programs\\GIT\\Student_Exam_Score_pred\\Model\\oe_ml.pkl\", \"rb\"))\n",
    "oe_pi = pickle.load(open(\"D:\\Programs\\GIT\\Student_Exam_Score_pred\\Model\\oe_pi.pkl\", \"rb\"))"
   ]
  },
  {
   "cell_type": "code",
   "execution_count": 4,
   "metadata": {},
   "outputs": [
    {
     "data": {
      "text/plain": [
       "array([[10, 70, 7, 80, 4, 4, 'High', 'Medium', 'Neutral']], dtype=object)"
      ]
     },
     "execution_count": 4,
     "metadata": {},
     "output_type": "execute_result"
    }
   ],
   "source": [
    "# rem, atr, ml, pi\n",
    "test_input = np.array([10,70,7,80,4,4,'High','Medium','Neutral'],dtype=object).reshape(1, -1)\n",
    "test_input"
   ]
  },
  {
   "cell_type": "code",
   "execution_count": 5,
   "metadata": {},
   "outputs": [
    {
     "name": "stderr",
     "output_type": "stream",
     "text": [
      "c:\\Users\\varun\\AppData\\Local\\Programs\\Python\\Python313\\Lib\\site-packages\\sklearn\\utils\\validation.py:2739: UserWarning: X does not have valid feature names, but OrdinalEncoder was fitted with feature names\n",
      "  warnings.warn(\n",
      "c:\\Users\\varun\\AppData\\Local\\Programs\\Python\\Python313\\Lib\\site-packages\\sklearn\\utils\\validation.py:2739: UserWarning: X does not have valid feature names, but OrdinalEncoder was fitted with feature names\n",
      "  warnings.warn(\n",
      "c:\\Users\\varun\\AppData\\Local\\Programs\\Python\\Python313\\Lib\\site-packages\\sklearn\\utils\\validation.py:2739: UserWarning: X does not have valid feature names, but OrdinalEncoder was fitted with feature names\n",
      "  warnings.warn(\n"
     ]
    }
   ],
   "source": [
    "test_input_atr = oe_atr.transform(test_input[:,6].reshape(1, 1))\n",
    "test_input_ml = oe_ml.transform(test_input[:,7].reshape(1, 1)) \n",
    "test_input_pi = oe_pi.transform(test_input[:,8].reshape(1, 1))"
   ]
  },
  {
   "cell_type": "code",
   "execution_count": 6,
   "metadata": {},
   "outputs": [],
   "source": [
    "test_input_transformed = np.concatenate((test_input[:,0:6], test_input_atr, test_input_ml, test_input_pi), axis=1)"
   ]
  },
  {
   "cell_type": "code",
   "execution_count": 7,
   "metadata": {},
   "outputs": [
    {
     "data": {
      "text/plain": [
       "(1, 9)"
      ]
     },
     "execution_count": 7,
     "metadata": {},
     "output_type": "execute_result"
    }
   ],
   "source": [
    "test_input_transformed.shape"
   ]
  },
  {
   "cell_type": "code",
   "execution_count": 9,
   "metadata": {},
   "outputs": [
    {
     "name": "stderr",
     "output_type": "stream",
     "text": [
      "<>:1: SyntaxWarning: invalid escape sequence '\\P'\n",
      "<>:1: SyntaxWarning: invalid escape sequence '\\P'\n",
      "C:\\Users\\varun\\AppData\\Local\\Temp\\ipykernel_15812\\478792030.py:1: SyntaxWarning: invalid escape sequence '\\P'\n",
      "  lr = pickle.load(open(\"D:\\Programs\\GIT\\Student_Exam_Score_pred\\Model\\lr_model.pkl\", \"rb\"))\n"
     ]
    }
   ],
   "source": [
    "lr = pickle.load(open(\"D:\\Programs\\GIT\\Student_Exam_Score_pred\\Model\\lr_model.pkl\", \"rb\"))"
   ]
  },
  {
   "cell_type": "code",
   "execution_count": 10,
   "metadata": {},
   "outputs": [],
   "source": [
    "test_pred = lr.predict(test_input_transformed)"
   ]
  },
  {
   "cell_type": "code",
   "execution_count": 11,
   "metadata": {},
   "outputs": [
    {
     "data": {
      "text/plain": [
       "array([64.8734049])"
      ]
     },
     "execution_count": 11,
     "metadata": {},
     "output_type": "execute_result"
    }
   ],
   "source": [
    "test_pred"
   ]
  }
 ],
 "metadata": {
  "kernelspec": {
   "display_name": "Python 3",
   "language": "python",
   "name": "python3"
  },
  "language_info": {
   "codemirror_mode": {
    "name": "ipython",
    "version": 3
   },
   "file_extension": ".py",
   "mimetype": "text/x-python",
   "name": "python",
   "nbconvert_exporter": "python",
   "pygments_lexer": "ipython3",
   "version": "3.13.2"
  }
 },
 "nbformat": 4,
 "nbformat_minor": 2
}
